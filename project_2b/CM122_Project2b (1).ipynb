{
  "cells": [
    {
      "cell_type": "markdown",
      "metadata": {
        "id": "Fw_BnX7XKn8X"
      },
      "source": [
        "Import necessary libraries and files."
      ]
    },
    {
      "cell_type": "code",
      "execution_count": 3,
      "metadata": {
        "id": "rgXSyvwes9nI"
      },
      "outputs": [],
      "source": [
        "import sys\n",
        "import argparse\n",
        "import numpy as np\n",
        "import time\n",
        "import zipfile\n",
        "import math\n",
        "import textwrap\n",
        "import pprint as pprint\n",
        "import random\n",
        "\n",
        "random.seed(1)\n",
        "\n",
        "from collections import defaultdict, Counter, OrderedDict\n",
        "\n",
        "test_raw = '/content/test.fasta'\n",
        "bound_raw = '/content/bound.fasta'\n",
        "notbound_raw = '/content/notbound.fasta'"
      ]
    },
    {
      "cell_type": "markdown",
      "metadata": {
        "id": "6wbMuqao2K-y"
      },
      "source": [
        "File processing: format the fasta files."
      ]
    },
    {
      "cell_type": "code",
      "execution_count": 4,
      "metadata": {
        "id": "Aw0ECP-91--2"
      },
      "outputs": [],
      "source": [
        "# build array of sequences -> later, reconstruct seq name by just returning index\n",
        "def file(fname):\n",
        "\n",
        "  # new array element for each newline\n",
        "  contents = []\n",
        "  with open(fname, \"r\") as fh:\n",
        "    for line in fh:\n",
        "      contents.append(line) \n",
        "\n",
        "  return [''.join([segment[:-1] for segment in contents[5 * i + 1:5 * i + 5]]) for i in range(len(contents) // 5)]"
      ]
    },
    {
      "cell_type": "markdown",
      "metadata": {
        "id": "9-TmxRYcBBJJ"
      },
      "source": [
        "Add pseudocounts to motifs."
      ]
    },
    {
      "cell_type": "code",
      "execution_count": 5,
      "metadata": {
        "id": "yftNlANoBATR"
      },
      "outputs": [],
      "source": [
        "def ProfileWithPseudocounts(Motifs):\n",
        "    count = CountWithPseudocounts(Motifs)\n",
        "    profile = {}\n",
        "    for nucleotide in count:\n",
        "        profile[nucleotide] = [\n",
        "            float(count[nucleotide][i]) / float(sum(count[nucleotide]))\n",
        "            for i in range(len(count[nucleotide]))\n",
        "        ]\n",
        "    return profile\n",
        "\n",
        "def CountWithPseudocounts(Motifs):\n",
        "    count = {}\n",
        "    k = len(Motifs[0])\n",
        "    for nucleotide in \"ACGT\":\n",
        "        count[nucleotide] = [1] * k\n",
        "    for i in range(len(Motifs)):\n",
        "        for j in range(k):\n",
        "            nucleotide = Motifs[i][j]\n",
        "            count[nucleotide][j] += 1\n",
        "    return count"
      ]
    },
    {
      "cell_type": "markdown",
      "metadata": {
        "id": "PdtQBApCIxha"
      },
      "source": [
        "Helper functions for Gibbs."
      ]
    },
    {
      "cell_type": "code",
      "execution_count": 6,
      "metadata": {
        "id": "u0eBoraDIwLO"
      },
      "outputs": [],
      "source": [
        "def HammingDistance(p, q):\n",
        "    return sum([1 for i in range(len(p)) if p[i] != q[i]])\n",
        "\n",
        "\n",
        "def Normalize(probabilities):\n",
        "    factor = 1.0 / sum(probabilities.values())\n",
        "    for key in probabilities:\n",
        "        probabilities[key] *= factor\n",
        "    return probabilities\n",
        "\n",
        "\n",
        "def Pr(Text, Profile):\n",
        "    p = 1\n",
        "    for i in range(len(Text)):\n",
        "        p *= Profile[Text[i]][i]\n",
        "    return p\n",
        "\n",
        "def randomMotif(seq, k):\n",
        "    i = random.randint(0, len(seq) - k)\n",
        "    return seq[i : i + k]\n",
        "\n",
        "def WeightedDie(probabilities):\n",
        "    kmer = \"\"\n",
        "    r = random.uniform(0, 1)\n",
        "    for key in probabilities:\n",
        "        r -= probabilities[key]\n",
        "        if r < 0:\n",
        "            kmer = key\n",
        "            break\n",
        "    return kmer\n",
        "\n",
        "def Score(Motifs):\n",
        "    consensus = Consensus(Motifs)\n",
        "    score = 0\n",
        "    for motif in Motifs:\n",
        "        score += HammingDistance(motif, consensus)\n",
        "    return score\n",
        "\n",
        "\n",
        "def Consensus(Motifs):\n",
        "    count = CountWithPseudocounts(Motifs)\n",
        "    k = len(Motifs[0])\n",
        "    consensus = \"\"\n",
        "    for j in range(k):\n",
        "        m = 0\n",
        "        frequentSymbol = \"\"\n",
        "        for symbol in \"ACGT\":\n",
        "            if count[symbol][j] > m:\n",
        "                m = count[symbol][j]\n",
        "                frequentSymbol = symbol\n",
        "        consensus += frequentSymbol\n",
        "    return consensus"
      ]
    },
    {
      "cell_type": "markdown",
      "metadata": {
        "id": "lUU3w6cl2M38"
      },
      "source": [
        "Build PWM using Gibbs sampling."
      ]
    },
    {
      "cell_type": "code",
      "execution_count": 7,
      "metadata": {
        "colab": {
          "base_uri": "https://localhost:8080/"
        },
        "id": "wsGvW7aKAxQ8",
        "outputId": "e582de2d-74be-45d7-d43f-3f3767343fd1"
      },
      "outputs": [
        {
          "output_type": "stream",
          "name": "stdout",
          "text": [
            "{'A': [0.04606772149438246, 0.04820588578315126, 0.04843914006919877, 0.04626210006608871, 0.04766162578237375, 0.046728608638183726, 0.04758387435369125, 0.04696186292423123, 0.0494499086420713, 0.04832251292617502, 0.04871127006958753, 0.04871127006958753, 0.047894880068421256, 0.046145472923064965, 0.04723399292461999, 0.045795591493993704, 0.04750612292500875, 0.05077168292967383, 0.04793375578276251, 0.04641760292345372, 0.04719511721027874], 'C': [0.05009269693554837, 0.04732996473881275, 0.049511069104656656, 0.04987458649896397, 0.04649387473190592, 0.04765713039368934, 0.048747682576611294, 0.048020647787996654, 0.04718455778108983, 0.04656657821076739, 0.04787524083027373, 0.04714820604165909, 0.04605765385873714, 0.04696644734450543, 0.04645752299247519, 0.04765713039368934, 0.04769348213312007, 0.04602130211930641, 0.046748336907921045, 0.048602275618888365, 0.04729361299938202], 'G': [0.04759561304836896, 0.04664651293588302, 0.046787120359955005, 0.047068335208098985, 0.04826349831271091, 0.048650168728908885, 0.04699803149606299, 0.04777137232845894, 0.04597862767154106, 0.04731439820022497, 0.04720894263217098, 0.04675196850393701, 0.048087739032620924, 0.04907199100112486, 0.04886107986501687, 0.04942350956130484, 0.046892575928009, 0.04629499437570304, 0.04703318335208099, 0.04872047244094488, 0.04857986501687289], 'T': [0.04656937652811736, 0.0484031173594132, 0.0457289119804401, 0.04718062347188264, 0.04805929095354523, 0.04733343520782396, 0.04714242053789731, 0.04767726161369193, 0.04805929095354523, 0.048364914425427875, 0.04672218826405868, 0.04798288508557457, 0.048479523227383865, 0.04817389975550122, 0.04786827628361858, 0.04740984107579462, 0.04844132029339853, 0.0476390586797066, 0.04886155256723716, 0.04656937652811736, 0.04733343520782396]}\n",
            "{'A': [0.047856197961248154, 0.047856197961248154, 0.0465333437086608, 0.0479340129172827, 0.04789510543926543, 0.049490312037973695, 0.04816745778538635, 0.048828884911680026, 0.04789510543926543, 0.04863434752159365, 0.047311493269006306, 0.045599564236246205, 0.04703914092288538, 0.04552174928021166, 0.0479340129172827, 0.04758384561512723, 0.04941249708193915, 0.04805073535133453, 0.047700568049179055, 0.046455528752626256, 0.04629989884055716], 'C': [0.04719785138764548, 0.04812891674127126, 0.04662488809310653, 0.04612354521038496, 0.0500626678603402, 0.046266786034019694, 0.04791405550581916, 0.04766338406445837, 0.04830796777081468, 0.048057296329453894, 0.04701880035810206, 0.04956132497761862, 0.04576544315129812, 0.049059982094897044, 0.04701880035810206, 0.04766338406445837, 0.04583706356311549, 0.0491674127126231, 0.04841539838854073, 0.04766338406445837, 0.0464816472694718], 'G': [0.04643907972632848, 0.04682902619731291, 0.050338544436172854, 0.04721897266829735, 0.047467120422560176, 0.04643907972632848, 0.046899925555673724, 0.04594278421780283, 0.047786167535183804, 0.047041724272395335, 0.048885107589776315, 0.04753801978092098, 0.051189336736502535, 0.04867240951469389, 0.0487078591938743, 0.04838881208125066, 0.04725442234747775, 0.045056542238292745, 0.04700627459321493, 0.046935375234854124, 0.04796341593108582], 'T': [0.04911606456571868, 0.04769408147578785, 0.04681014604150653, 0.04934665641813989, 0.044888547271329744, 0.048501152959262106, 0.047540353574173716, 0.04819369715603382, 0.046425826287471175, 0.046771714066103, 0.047194465795541894, 0.047617217524980784, 0.046310530361260566, 0.04700230591852421, 0.046771714066103, 0.046771714066103, 0.048155265180630284, 0.04830899308224443, 0.04734819369715603, 0.0494619523443505, 0.049769408147578784]}\n",
            "{'A': [0.04708171206225681, 0.04723735408560311, 0.048482490272373543, 0.049494163424124514, 0.048326848249027235, 0.04859922178988327, 0.048132295719844356, 0.048832684824902724, 0.043813229571984434, 0.047665369649805445, 0.04809338521400778, 0.04649805447470817, 0.047626459143968874, 0.04684824902723735, 0.04649805447470817, 0.04692607003891051, 0.04801556420233463, 0.047626459143968874, 0.04937743190661478, 0.047315175097276264, 0.04750972762645914], 'C': [0.04705629565964761, 0.04573127059160579, 0.0473069760779258, 0.04791577137945853, 0.049204984959174906, 0.04798739435610944, 0.049204984959174906, 0.04497922933677124, 0.05027932960893855, 0.047521845007878524, 0.04662655779974216, 0.048452943704340355, 0.04938404240080218, 0.04440624552356396, 0.04866781263429308, 0.04777252542615671, 0.04798739435610944, 0.04852456668099126, 0.045480590173327604, 0.04798739435610944, 0.047521845007878524], 'G': [0.049707393662574935, 0.05017128175849272, 0.04756637168141593, 0.047709106480159864, 0.046817013988010275, 0.04756637168141593, 0.04621039109334856, 0.04788752497858978, 0.048886668569797315, 0.04735226948330003, 0.048743933771053384, 0.0472095346845561, 0.04456894090779332, 0.05034970025692264, 0.046388809591778477, 0.0469954324864402, 0.045853554096488724, 0.04678133028832429, 0.049100770767913214, 0.04695974878675421, 0.04717385098487011], 'T': [0.046512515262515264, 0.047275641025641024, 0.04716117216117216, 0.045367826617826616, 0.046092796092796096, 0.046321733821733824, 0.04693223443223443, 0.048954517704517704, 0.04716117216117216, 0.047962454212454216, 0.04700854700854701, 0.04826770451770452, 0.04899267399267399, 0.04887820512820513, 0.048916361416361416, 0.04880189255189255, 0.048725579975579976, 0.04754273504273504, 0.04658882783882784, 0.04822954822954823, 0.04830586080586081]}\n"
          ]
        }
      ],
      "source": [
        "def ProfileGeneratedString(Text, profile, k):\n",
        "    n = len(Text)\n",
        "    probabilities = {}\n",
        "    for i in range(n - k + 1):\n",
        "        probabilities[Text[i : i + k]] = Pr(Text[i : i + k], profile)\n",
        "    probabilities = Normalize(probabilities)\n",
        "    return WeightedDie(probabilities)\n",
        "\n",
        "def GibbsSampler(Dna, k, t, N):\n",
        "    BestMotifs = None\n",
        "    BestScore = float(\"inf\")\n",
        "    for start in range(20):\n",
        "        Motifs = [randomMotif(seq, k) for seq in Dna]\n",
        "        for j in range(N):\n",
        "            i = random.randint(0, t - 1)\n",
        "            MotifI = Motifs[i]\n",
        "            MotifsWithoutI = Motifs[:i] + Motifs[i + 1 :]\n",
        "            profile = ProfileWithPseudocounts(MotifsWithoutI)\n",
        "            MotifI = ProfileGeneratedString(Dna[i], profile, k)\n",
        "            Motifs = MotifsWithoutI[:i] + [MotifI] + MotifsWithoutI[i:]\n",
        "            if Score(Motifs) < BestScore:\n",
        "                BestMotifs = Motifs\n",
        "                BestScore = Score(Motifs)\n",
        "                print(profile)\n",
        "    return BestMotifs\n",
        "\n",
        "bound_processed = file(\"/content/bound.fasta\")\n",
        "k = 21 #length of motif we're currently looking at. ITERATE OVER THIS LATER.\n",
        "t = len(bound_processed)\n",
        "N = 1 #1000 is worse than 100\n",
        "\n",
        "best_motifs = GibbsSampler(bound_processed, k, t, N)\n",
        "# print(best_motifs)\n",
        "# print(\" \".join(best_motifs))"
      ]
    },
    {
      "cell_type": "code",
      "execution_count": 13,
      "metadata": {
        "id": "qen0nx-qubPD",
        "colab": {
          "base_uri": "https://localhost:8080/"
        },
        "outputId": "25c8ea37-e236-447e-e36a-c2547bf4b137"
      },
      "outputs": [
        {
          "output_type": "stream",
          "name": "stdout",
          "text": [
            "{'A': [0.2086499123319696, 0.13247613481394896, 0.21663744398986948, 0.18624586012078706, 0.10403272939801286, 0.15702318332359244, 0.3159945451003312, 0.04149620105201637, 0.14650301967660237, 0.03389830508474576, 0.11007208260276641, 0.0676017923241769, 0.22852133255406196, 0.15819209039548024, 0.049678550555230856, 0.3154100915643873, 0.11669588934346387, 0.3904149620105202, 0.1542957334891876, 0.20806545879602573, 0.20572764465225016], 'C': [0.3438534969803234, 0.586791350087668, 0.45314630820183127, 0.14825638028443405, 0.023183323592441067, 0.17221897525813365, 0.364114552893045, 0.9210987726475746, 0.192090395480226, 0.27586206896551724, 0.1441652055328268, 0.20183128774595752, 0.22969023962594973, 0.4172998246639392, 0.8702513150204558, 0.2579388271965712, 0.46425092538476526, 0.14241184492499512, 0.1636469900642899, 0.2649522696278979, 0.2943697642704072], 'G': [0.23982076758231055, 0.13189168127800507, 0.06935515293200857, 0.15254237288135594, 0.632768361581921, 0.561465030196766, 0.18293395675043833, 0.017923241768946035, 0.004480810442236509, 0.24995129553867135, 0.16578998636275083, 0.5895187999220729, 0.22423533995714007, 0.21137736216637443, 0.020455873758036237, 0.010714981492304695, 0.2857977790765634, 0.154100915643873, 0.5172413793103449, 0.32924215858172606, 0.27274498344048315], 'T': [0.20767582310539645, 0.14884083382037794, 0.26086109487629067, 0.512955386713423, 0.24001558542762516, 0.10929281122150789, 0.13695694525618546, 0.01948178453146308, 0.6569257744009351, 0.44028833041106563, 0.5799727255016559, 0.1410481200077927, 0.31755308786284825, 0.2131307227742061, 0.05961426066627703, 0.4159360997467368, 0.13325540619520748, 0.3130722774206117, 0.16481589713617767, 0.1977401129943503, 0.22715760763685955]}\n"
          ]
        }
      ],
      "source": [
        "#Build PWM from best_motifs\n",
        "pwm = {'A': [0] * k,'C': [0] * k,'G': [0] * k,'T': [0] * k}\n",
        "\n",
        "saved_best_motifs = (0, [0.2086499123319696, 0.13247613481394896, 0.21663744398986948, 0.18624586012078706, 0.10403272939801286, 0.15702318332359244, 0.3159945451003312, 0.04149620105201637, 0.14650301967660237, 0.03389830508474576, 0.11007208260276641, 0.0676017923241769, 0.22852133255406196, 0.15819209039548024, 0.049678550555230856, 0.3154100915643873, 0.11669588934346387, 0.3904149620105202, 0.1542957334891876, 0.20806545879602573, 0.20572764465225016, 0.3438534969803234, 0.586791350087668, 0.45314630820183127, 0.14825638028443405, 0.023183323592441067, 0.17221897525813365, 0.364114552893045, 0.9210987726475746, 0.192090395480226, 0.27586206896551724, 0.1441652055328268, 0.20183128774595752, 0.22969023962594973, 0.4172998246639392, 0.8702513150204558, 0.2579388271965712, 0.46425092538476526, 0.14241184492499512, 0.1636469900642899, 0.2649522696278979, 0.2943697642704072, 0.23982076758231055, 0.13189168127800507, 0.06935515293200857, 0.15254237288135594, 0.632768361581921, 0.561465030196766, 0.18293395675043833, 0.017923241768946035, 0.004480810442236509, 0.24995129553867135, 0.16578998636275083, 0.5895187999220729, 0.22423533995714007, 0.21137736216637443, 0.020455873758036237, 0.010714981492304695, 0.2857977790765634, 0.154100915643873, 0.5172413793103449, 0.32924215858172606, 0.27274498344048315, 0.20767582310539645, 0.14884083382037794, 0.26086109487629067, 0.512955386713423, 0.24001558542762516, 0.10929281122150789, 0.13695694525618546, 0.01948178453146308, 0.6569257744009351, 0.44028833041106563, 0.5799727255016559, 0.1410481200077927, 0.31755308786284825, 0.2131307227742061, 0.05961426066627703, 0.4159360997467368, 0.13325540619520748, 0.3130722774206117, 0.16481589713617767, 0.1977401129943503, 0.22715760763685955])\n",
        "saved_pwm = {'A': saved_best_motifs[1][:k], 'C': saved_best_motifs[1][k:2*k], 'G': saved_best_motifs[1][2*k:3*k], 'T': saved_best_motifs[1][3*k:4*k]}\n",
        "\n",
        "for i in range(k): #from 0 to 21, or whatever we decide K to be\n",
        "  #access i-th element of each element \n",
        "  for sequence in best_motifs:\n",
        "    if sequence[i] == 'A':\n",
        "      pwm['A'][i] += 1\n",
        "    elif sequence[i] == 'C':\n",
        "      pwm['C'][i] += 1\n",
        "    elif sequence[i] == 'G':\n",
        "      pwm['G'][i] += 1\n",
        "    elif sequence[i] == 'T':\n",
        "      pwm['T'][i] += 1\n",
        " \n",
        "# then divide every element in PWM by # sequences\n",
        "for element in pwm:\n",
        "  for q in range(k):\n",
        "    pwm[element][q] = pwm[element][q] / len(best_motifs)\n",
        "\n",
        "print(saved_pwm)"
      ]
    },
    {
      "cell_type": "markdown",
      "metadata": {
        "id": "BTenFtqK2P8M"
      },
      "source": [
        "Score test string against PWM."
      ]
    },
    {
      "cell_type": "code",
      "execution_count": 14,
      "metadata": {
        "id": "76Am1f_y1crx"
      },
      "outputs": [],
      "source": [
        "len_pwm = 21 #length of pwm = length of bound transcription factor\n",
        "\n",
        "def score_string(test_string):\n",
        "  # score each index of test string against each index of pwm\n",
        "  score = 1\n",
        "  for i in range(len(test_string)): \n",
        "    score *= saved_pwm[test_string[i]][i] # value\n",
        "  return score"
      ]
    },
    {
      "cell_type": "markdown",
      "metadata": {
        "id": "aAykIJyt2775"
      },
      "source": [
        "Iterate through the test file sequences, score each sequence against the PWM."
      ]
    },
    {
      "cell_type": "code",
      "execution_count": 15,
      "metadata": {
        "id": "QzYcUwCQ186B"
      },
      "outputs": [],
      "source": [
        "def iterate():\n",
        "  test_processed = file(test_raw)\n",
        "  total_scores = [['seq' + str(x + 1), 0] for x in range(len(test_processed))] #array of [seq_index, score]\n",
        "  for k in range(len(test_processed)):\n",
        "    max_score = 0\n",
        "    for i in range(len(test_processed[k]) - len_pwm + 1):\n",
        "      curr_score = score_string(test_processed[k][i:i+len_pwm])\n",
        "      if curr_score > max_score: max_score = curr_score\n",
        "    total_scores[k][1] = max_score\n",
        "  return total_scores"
      ]
    },
    {
      "cell_type": "markdown",
      "metadata": {
        "id": "xKcedWcg31DR"
      },
      "source": [
        "Sort the sequence + score array in order of best scores to last."
      ]
    },
    {
      "cell_type": "code",
      "execution_count": null,
      "metadata": {
        "id": "n45_Lf1D16yN"
      },
      "outputs": [],
      "source": [
        "# MAIN FUNCTION: output top 2000\n",
        "def output2000():\n",
        "  total_scores = iterate()\n",
        "  total_scores_sorted = sorted(total_scores, key = lambda x: x[1], reverse = True)\n",
        "  # return(total_scores_sorted[0:1999])\n",
        "  for i in range(0,2000): print(total_scores_sorted[i][0])\n",
        "  pass\n",
        "\n",
        "# 557 correct with random seed = 1, gibbs iterations N = 10\n",
        "\n",
        "output2000()"
      ]
    },
    {
      "cell_type": "markdown",
      "metadata": {
        "id": "70O7vloRSK0O"
      },
      "source": [
        "Currently at 557. Pretty fast function.\n",
        "Things I could do to improve it tomorrow:\n",
        "\n",
        "- Play around with number of times we run Gibbs. Currently I only do 100. Maybe 1000?\n",
        "- Loop through a variety of values for k. Currently at 21. \n",
        "- Work with reverse\n",
        "- Expec max or ML\n",
        "- Incorporate notbound.fasta somehow... i.e learn what the pwm looks like for the NOT bound files. Then, if a test sequence matches well with the notbound pwm, it's probably not bound by a tf. PROBLEM: the pwm is generated by looking for the \"most similar thing\", which means that we're implicitly assuming there is a transcription factor bound. \n",
        "\n",
        "Update 5/10/23: ran for 50,000 iterations and finally got 639."
      ]
    }
  ],
  "metadata": {
    "colab": {
      "provenance": []
    },
    "kernelspec": {
      "display_name": "Python 3",
      "name": "python3"
    },
    "language_info": {
      "name": "python"
    }
  },
  "nbformat": 4,
  "nbformat_minor": 0
}